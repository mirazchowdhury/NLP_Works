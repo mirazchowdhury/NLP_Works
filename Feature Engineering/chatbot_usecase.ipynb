{
 "cells": [
  {
   "cell_type": "code",
   "execution_count": 1,
   "metadata": {},
   "outputs": [
    {
     "name": "stdout",
     "output_type": "stream",
     "text": [
      "Dataset created: edtech_faq.csv\n"
     ]
    }
   ],
   "source": [
    "import pandas as pd\n",
    "\n",
    "# FAQ Dataset\n",
    "data = {\n",
    "    \"question\": [\n",
    "        \"Class kobe shuru?\",\n",
    "        \"Admission fee koto?\",\n",
    "        \"Course duration koto din?\",\n",
    "        \"Certificate pawa jabe ki?\",\n",
    "        \"Instructor ke hobe?\"\n",
    "    ],\n",
    "\n",
    "    \"answer\": [\n",
    "        \"Class 10 PM e shuru hobe.\",\n",
    "        \"Admission fee $1000 USD.\",\n",
    "        \"Course ti 3 maser hobe.\",\n",
    "        \"Haan, successful completion e certificate.\",\n",
    "        \"Mr. Rahim AI Expert instructor.\"\n",
    "    ],\n",
    "\n",
    "    \"category\": [\n",
    "        \"Course Info\",\n",
    "        \"Admission\",\n",
    "        \"Course Info\",\n",
    "        \"Certification\",\n",
    "        \"Faculty\"\n",
    "    ],\n",
    "\n",
    "    \"intent\": [\n",
    "        \"class_time\",\n",
    "        \"admission_fee\",\n",
    "        \"course_duration\",\n",
    "        \"certificate\",\n",
    "        \"instructor\"\n",
    "    ],\n",
    "\n",
    "    \"synonyms\": [\n",
    "        \"batch kobe, class time\",\n",
    "        \"fee koto, cost of course\",\n",
    "        \"duration, kotodin\",\n",
    "        \"certificate ki pabo?\",\n",
    "        \"teacher, mentor\"\n",
    "    ]\n",
    "\n",
    "}\n",
    "\n",
    "# Save as CSV\n",
    "df = pd.DataFrame(data)\n",
    "df.to_csv(\"edtech_faq.csv\", index=False)\n",
    "\n",
    "print(\"Dataset created: edtech_faq.csv\")\n",
    "\n",
    "\n"
   ]
  }
 ],
 "metadata": {
  "kernelspec": {
   "display_name": "base",
   "language": "python",
   "name": "python3"
  },
  "language_info": {
   "codemirror_mode": {
    "name": "ipython",
    "version": 3
   },
   "file_extension": ".py",
   "mimetype": "text/x-python",
   "name": "python",
   "nbconvert_exporter": "python",
   "pygments_lexer": "ipython3",
   "version": "3.11.5"
  }
 },
 "nbformat": 4,
 "nbformat_minor": 2
}
