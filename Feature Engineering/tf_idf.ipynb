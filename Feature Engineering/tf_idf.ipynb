{
 "cells": [
  {
   "cell_type": "code",
   "execution_count": 1,
   "metadata": {},
   "outputs": [
    {
     "name": "stdout",
     "output_type": "stream",
     "text": [
      "Cosine Similarity with Document 1: 0.0000\n",
      "Cosine Similarity with Document 2: 1.0000\n",
      "Cosine Similarity with Document 3: 0.1718\n"
     ]
    }
   ],
   "source": [
    "import pandas as pd\n",
    "from sklearn.feature_extraction.text import TfidfVectorizer\n",
    "from sklearn.metrics.pairwise import cosine_similarity\n",
    "\n",
    "# Sample data (user query and FAQ documents)\n",
    "documents = [\n",
    "    \"Class kobe shuru?\",         # Document 1\n",
    "    \"Admission fee koto?\",       # Document 2\n",
    "    \"Course duration koto din?\"  # Document 3\n",
    "]\n",
    "\n",
    "user_query = \"Admission fee koto?\" # User query\n",
    "\n",
    "# Step 1: Initialize TF-IDF Vectorizer\n",
    "tfidf_vectorizer = TfidfVectorizer()\n",
    "\n",
    "# Step 2: Fit and transform the documents (including the user query)\n",
    "tfidf_matrix = tfidf_vectorizer.fit_transform(documents + [user_query])\n",
    "\n",
    "# Step 3: Calculate Cosine Similarity\n",
    "cosine_similarities = cosine_similarity(tfidf_matrix[-1], tfidf_matrix[:-1])\n",
    "\n",
    "# Step 4: Output the similarity scores for each document\n",
    "for i, score in enumerate(cosine_similarities[0]):\n",
    "    print(f\"Cosine Similarity with Document {i + 1}: {score:.4f}\")"
   ]
  }
 ],
 "metadata": {
  "kernelspec": {
   "display_name": "base",
   "language": "python",
   "name": "python3"
  },
  "language_info": {
   "codemirror_mode": {
    "name": "ipython",
    "version": 3
   },
   "file_extension": ".py",
   "mimetype": "text/x-python",
   "name": "python",
   "nbconvert_exporter": "python",
   "pygments_lexer": "ipython3",
   "version": "3.11.5"
  }
 },
 "nbformat": 4,
 "nbformat_minor": 2
}
