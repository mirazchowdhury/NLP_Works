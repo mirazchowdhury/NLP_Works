{
 "cells": [
  {
   "cell_type": "code",
   "execution_count": 1,
   "metadata": {},
   "outputs": [],
   "source": [
    "import polars as pl"
   ]
  },
  {
   "cell_type": "code",
   "execution_count": 2,
   "metadata": {},
   "outputs": [
    {
     "name": "stdout",
     "output_type": "stream",
     "text": [
      "shape: (5, 6)\n",
      "┌─────┬────────────┬─────────────────────┬──────────┬─────────────────┬────────────────────────────┐\n",
      "│ 0   ┆ 1467810369 ┆ Mon Apr 06 22:19:45 ┆ NO_QUERY ┆ _TheSpecialOne_ ┆ @switchfoot                │\n",
      "│ --- ┆ ---        ┆ PDT 2009            ┆ ---      ┆ ---             ┆ http://twitpic.com…        │\n",
      "│ i64 ┆ i64        ┆ ---                 ┆ str      ┆ str             ┆ ---                        │\n",
      "│     ┆            ┆ str                 ┆          ┆                 ┆ str                        │\n",
      "╞═════╪════════════╪═════════════════════╪══════════╪═════════════════╪════════════════════════════╡\n",
      "│ 0   ┆ 1467810672 ┆ Mon Apr 06 22:19:49 ┆ NO_QUERY ┆ scotthamilton   ┆ is upset that he can't     │\n",
      "│     ┆            ┆ PDT 2009            ┆          ┆                 ┆ update …                   │\n",
      "│ 0   ┆ 1467810917 ┆ Mon Apr 06 22:19:53 ┆ NO_QUERY ┆ mattycus        ┆ @Kenichan I dived many     │\n",
      "│     ┆            ┆ PDT 2009            ┆          ┆                 ┆ times f…                   │\n",
      "│ 0   ┆ 1467811184 ┆ Mon Apr 06 22:19:57 ┆ NO_QUERY ┆ ElleCTF         ┆ my whole body feels itchy  │\n",
      "│     ┆            ┆ PDT 2009            ┆          ┆                 ┆ and …                      │\n",
      "│ 0   ┆ 1467811193 ┆ Mon Apr 06 22:19:57 ┆ NO_QUERY ┆ Karoli          ┆ @nationwideclass no, it's  │\n",
      "│     ┆            ┆ PDT 2009            ┆          ┆                 ┆ not …                      │\n",
      "│ 0   ┆ 1467811372 ┆ Mon Apr 06 22:20:00 ┆ NO_QUERY ┆ joy_wolf        ┆ @Kwesidei not the whole    │\n",
      "│     ┆            ┆ PDT 2009            ┆          ┆                 ┆ crew                       │\n",
      "└─────┴────────────┴─────────────────────┴──────────┴─────────────────┴────────────────────────────┘\n"
     ]
    }
   ],
   "source": [
    "file_path = \"training.1600000.processed.noemoticon.csv\"\n",
    "df1 = pl.read_csv(file_path,encoding=\"ISO-8859-1\")\n",
    "print(df1.head())"
   ]
  },
  {
   "cell_type": "code",
   "execution_count": null,
   "metadata": {},
   "outputs": [],
   "source": [
    "\n"
   ]
  }
 ],
 "metadata": {
  "kernelspec": {
   "display_name": "Python 3",
   "language": "python",
   "name": "python3"
  },
  "language_info": {
   "codemirror_mode": {
    "name": "ipython",
    "version": 3
   },
   "file_extension": ".py",
   "mimetype": "text/x-python",
   "name": "python",
   "nbconvert_exporter": "python",
   "pygments_lexer": "ipython3",
   "version": "3.12.8"
  }
 },
 "nbformat": 4,
 "nbformat_minor": 2
}
